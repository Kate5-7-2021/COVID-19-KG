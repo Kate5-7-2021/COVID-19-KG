{
  "nbformat": 4,
  "nbformat_minor": 0,
  "metadata": {
    "colab": {
      "name": "Copy of covid-19-kg-mining.ipynb",
      "provenance": [],
      "collapsed_sections": [],
      "include_colab_link": true
    },
    "kernelspec": {
      "name": "python3",
      "display_name": "Python 3"
    },
    "language_info": {
      "name": "python"
    },
    "accelerator": "GPU"
  },
  "cells": [
    {
      "cell_type": "markdown",
      "metadata": {
        "id": "view-in-github",
        "colab_type": "text"
      },
      "source": [
        "<a href=\"https://colab.research.google.com/github/Kate5-7-2021/COVID-19-KG/blob/main/Copy_of_covid_19_kg_mining.ipynb\" target=\"_parent\"><img src=\"https://colab.research.google.com/assets/colab-badge.svg\" alt=\"Open In Colab\"/></a>"
      ]
    },
    {
      "cell_type": "markdown",
      "metadata": {
        "id": "xUFXMJVdOltr"
      },
      "source": [
        "# 1. Preliminaries"
      ]
    },
    {
      "cell_type": "code",
      "metadata": {
        "id": "P7TZVvkzNwDF",
        "colab": {
          "base_uri": "https://localhost:8080/"
        },
        "outputId": "8282f21a-bee3-4f6d-e403-33131bf7648e"
      },
      "source": [
        "# If using Google Colab run this cell \n",
        "\n",
        "# select tensorflow version for colab \n",
        "%tensorflow_version 1.x"
      ],
      "execution_count": null,
      "outputs": [
        {
          "output_type": "stream",
          "text": [
            "TensorFlow 1.x selected.\n"
          ],
          "name": "stdout"
        }
      ]
    },
    {
      "cell_type": "code",
      "metadata": {
        "colab": {
          "base_uri": "https://localhost:8080/"
        },
        "id": "h22uybHCOUyq",
        "outputId": "72f17b4d-f5e4-4bb0-87eb-764bfec5c40f"
      },
      "source": [
        "import tensorflow as tf \n",
        "\n",
        "print('TensorFlow  version: {}'.format(tf.__version__))\n",
        "\n",
        "# Get the GPU name\n",
        "device_name = tf.test.gpu_device_name()\n",
        "if device_name != '/device:GPU:0':\n",
        "  raise SystemError('GPU device not found')\n",
        "print('Found GPU at: {}'.format(device_name))"
      ],
      "execution_count": null,
      "outputs": [
        {
          "output_type": "stream",
          "text": [
            "TensorFlow  version: 1.15.2\n",
            "Found GPU at: /device:GPU:0\n"
          ],
          "name": "stdout"
        }
      ]
    },
    {
      "cell_type": "code",
      "metadata": {
        "id": "MgZPAPapOaLA"
      },
      "source": [
        "%%capture \n",
        "# Install AmpliGraph library\n",
        "! pip install ampligraph\n",
        "\n",
        "# Required to visualize embeddings with tensorboard projector, comment out if not required!\n",
        "! pip install --user tensorboard\n",
        "\n",
        "# Required to plot text on embedding clusters, comment out if not required!\n",
        "! pip install --user git+https://github.com/Phlya/adjustText"
      ],
      "execution_count": null,
      "outputs": []
    },
    {
      "cell_type": "code",
      "metadata": {
        "colab": {
          "base_uri": "https://localhost:8080/"
        },
        "id": "9Bzg5vHqOfch",
        "outputId": "bf885156-9bbc-4e0c-ddb9-eb4b8d6fb3a9"
      },
      "source": [
        "# All imports used in this tutorial \n",
        "%tensorflow_version 1.x\n",
        "import ampligraph\n",
        "import numpy as np\n",
        "import pandas as pd\n",
        "import tensorflow as tf\n",
        "from ampligraph.datasets import load_fb15k_237\n",
        "from ampligraph.evaluation import train_test_split_no_unseen, evaluate_performance, mr_score, mrr_score, hits_at_n_score\n",
        "from ampligraph.discovery import query_topn, discover_facts, find_clusters\n",
        "from ampligraph.latent_features import TransE, ComplEx, HolE, DistMult, ConvE, ConvKB\n",
        "from ampligraph.utils import save_model, restore_model\n",
        "\n",
        "def display_aggregate_metrics(ranks):\n",
        "    print('Mean Rank:', mr_score(ranks)) \n",
        "    print('Mean Reciprocal Rank:', mrr_score(ranks)) \n",
        "    print('Hits@1:', hits_at_n_score(ranks, 1))\n",
        "    print('Hits@10:', hits_at_n_score(ranks, 10))\n",
        "    print('Hits@100:', hits_at_n_score(ranks, 100))\n",
        "\n",
        "print('Ampligraph version: {}'.format(ampligraph.__version__))"
      ],
      "execution_count": null,
      "outputs": [
        {
          "output_type": "stream",
          "text": [
            "Ampligraph version: 1.4.0\n"
          ],
          "name": "stdout"
        }
      ]
    },
    {
      "cell_type": "markdown",
      "metadata": {
        "id": "aBb8eVx6Osxx"
      },
      "source": [
        "# 2. Loading a Knowledge Graph dataset"
      ]
    },
    {
      "cell_type": "code",
      "metadata": {
        "id": "k96fp70dOyyS"
      },
      "source": [
        "from ampligraph.datasets import load_fb15k_237, load_wn18rr, load_yago3_10\n",
        "import pandas as pd\n",
        "import requests\n",
        "import io"
      ],
      "execution_count": null,
      "outputs": []
    },
    {
      "cell_type": "code",
      "metadata": {
        "id": "woNtfTQ2bRgL",
        "colab": {
          "base_uri": "https://localhost:8080/",
          "height": 222
        },
        "outputId": "64693189-7b6a-4d7b-dfad-e0f210e75356"
      },
      "source": [
        "# Downloading the csv file from your GitHub account\n",
        "re_pdf = requests.get('https://raw.githubusercontent.com/HuyenNguyenHelen/CORD-19-KG/master/new_triples_with_predefined_relations_pdf_June20_.csv').content\n",
        "re_pmc = requests.get('https://raw.githubusercontent.com/HuyenNguyenHelen/CORD-19-KG/master/new_triples_with_predefined_relations_pmc_June20_.csv').content\n",
        "pdf = pd.read_csv(io.StringIO(re_pdf.decode('utf-8')))\n",
        "pmc =  pd.read_csv(io.StringIO(re_pmc.decode('utf-8')))\n",
        "dataset = pd.concat([pmc, pdf])\n",
        "print(dataset.columns)\n",
        "dataset.drop(columns='Unnamed: 0', inplace=True)\n",
        "dataset = dataset[['subject','new_relation', 'object' ]]\n",
        "dataset.head(5)"
      ],
      "execution_count": null,
      "outputs": [
        {
          "output_type": "stream",
          "text": [
            "Index(['Unnamed: 0', 'Unnamed: 0.1', 'subject', 'object', 'new_relation'], dtype='object')\n"
          ],
          "name": "stdout"
        },
        {
          "output_type": "execute_result",
          "data": {
            "text/html": [
              "<div>\n",
              "<style scoped>\n",
              "    .dataframe tbody tr th:only-of-type {\n",
              "        vertical-align: middle;\n",
              "    }\n",
              "\n",
              "    .dataframe tbody tr th {\n",
              "        vertical-align: top;\n",
              "    }\n",
              "\n",
              "    .dataframe thead th {\n",
              "        text-align: right;\n",
              "    }\n",
              "</style>\n",
              "<table border=\"1\" class=\"dataframe\">\n",
              "  <thead>\n",
              "    <tr style=\"text-align: right;\">\n",
              "      <th></th>\n",
              "      <th>subject</th>\n",
              "      <th>new_relation</th>\n",
              "      <th>object</th>\n",
              "    </tr>\n",
              "  </thead>\n",
              "  <tbody>\n",
              "    <tr>\n",
              "      <th>0</th>\n",
              "      <td>dysfunction</td>\n",
              "      <td>disease_species</td>\n",
              "      <td>child</td>\n",
              "    </tr>\n",
              "    <tr>\n",
              "      <th>1</th>\n",
              "      <td>et dysfunction</td>\n",
              "      <td>disease_species</td>\n",
              "      <td>child</td>\n",
              "    </tr>\n",
              "    <tr>\n",
              "      <th>2</th>\n",
              "      <td>et dysfunction</td>\n",
              "      <td>disease_species</td>\n",
              "      <td>child</td>\n",
              "    </tr>\n",
              "    <tr>\n",
              "      <th>3</th>\n",
              "      <td>rsv</td>\n",
              "      <td>disease_disease</td>\n",
              "      <td>virus</td>\n",
              "    </tr>\n",
              "    <tr>\n",
              "      <th>4</th>\n",
              "      <td>treatment</td>\n",
              "      <td>treat_procedure_species</td>\n",
              "      <td>child</td>\n",
              "    </tr>\n",
              "  </tbody>\n",
              "</table>\n",
              "</div>"
            ],
            "text/plain": [
              "          subject             new_relation object\n",
              "0     dysfunction          disease_species  child\n",
              "1  et dysfunction          disease_species  child\n",
              "2  et dysfunction          disease_species  child\n",
              "3             rsv          disease_disease  virus\n",
              "4       treatment  treat_procedure_species  child"
            ]
          },
          "metadata": {
            "tags": []
          },
          "execution_count": 8
        }
      ]
    },
    {
      "cell_type": "code",
      "metadata": {
        "colab": {
          "base_uri": "https://localhost:8080/"
        },
        "id": "ne21mIAeO-Kh",
        "outputId": "479a2c36-4748-4fd8-9104-5b8bd77b60f8"
      },
      "source": [
        "print('Total triples in the KG:', dataset.shape)"
      ],
      "execution_count": null,
      "outputs": [
        {
          "output_type": "stream",
          "text": [
            "Total triples in the KG: (230330, 3)\n"
          ],
          "name": "stdout"
        }
      ]
    },
    {
      "cell_type": "code",
      "metadata": {
        "id": "9WxrnxjodccM",
        "colab": {
          "base_uri": "https://localhost:8080/"
        },
        "outputId": "208424fc-1b62-4829-cc37-bd395f0218ca"
      },
      "source": [
        "print('the number of relations: \\n', dataset['new_relation'].value_counts())"
      ],
      "execution_count": null,
      "outputs": [
        {
          "output_type": "stream",
          "text": [
            "the number of relations: \n",
            " disease_disease                    63192\n",
            "gene_gene                          24172\n",
            "disease_species                    22370\n",
            "gene_disease                       14220\n",
            "disease_gene                       13347\n",
            "disease_treat_procedure            10184\n",
            "treat_procedure_disease             8223\n",
            "drug_disease                        7250\n",
            "gene_treat_procedure                6142\n",
            "treat_procedure_treat_procedure     5625\n",
            "gene_species                        5298\n",
            "drug_gene                           5270\n",
            "drug_drug                           4613\n",
            "treat_procedure_gene                4602\n",
            "disease_symptom                     4354\n",
            "treat_procedure_species             4263\n",
            "disease_drug                        4044\n",
            "drug_species                        3680\n",
            "gene_drug                           3603\n",
            "symptom_disease                     3411\n",
            "symptom_symptom                     3266\n",
            "drug_treat_procedure                3229\n",
            "treat_procedure_drug                2578\n",
            "symptom_species                     1020\n",
            "gene_symptom                         614\n",
            "drug_symptom                         466\n",
            "treat_procedure_symptom              446\n",
            "symptom_treat_procedure              370\n",
            "symptom_gene                         309\n",
            "symptom_drug                         169\n",
            "Name: new_relation, dtype: int64\n"
          ],
          "name": "stdout"
        }
      ]
    },
    {
      "cell_type": "markdown",
      "metadata": {
        "id": "fLlcSqIBPEAQ"
      },
      "source": [
        "## 2.1 Create training, validation and test splits"
      ]
    },
    {
      "cell_type": "code",
      "metadata": {
        "colab": {
          "base_uri": "https://localhost:8080/"
        },
        "id": "qaZipgBpPGop",
        "outputId": "915b5e90-8dd6-4921-c97e-2f60954d8b1f"
      },
      "source": [
        "from ampligraph.evaluation import train_test_split_no_unseen\n",
        "# get the validation set of size 500\n",
        "test_train, X_valid = train_test_split_no_unseen(dataset.values, 500, seed=0)\n",
        "\n",
        "# get the test set of size 1000 from the remaining triples\n",
        "X_train, X_test = train_test_split_no_unseen(test_train, 1000, seed=0)\n",
        "\n",
        "print('Total triples:', dataset.shape)\n",
        "print('Size of train:', X_train.shape)\n",
        "print('Size of valid:', X_valid.shape)\n",
        "print('Size of test:', X_test.shape)"
      ],
      "execution_count": null,
      "outputs": [
        {
          "output_type": "stream",
          "text": [
            "Total triples: (230330, 3)\n",
            "Size of train: (228830, 3)\n",
            "Size of valid: (500, 3)\n",
            "Size of test: (1000, 3)\n"
          ],
          "name": "stdout"
        }
      ]
    },
    {
      "cell_type": "markdown",
      "metadata": {
        "id": "fzsmWo0zPMR6"
      },
      "source": [
        "# 3. Model Training"
      ]
    },
    {
      "cell_type": "code",
      "metadata": {
        "colab": {
          "base_uri": "https://localhost:8080/"
        },
        "id": "p9POL-1mPOsJ",
        "outputId": "9c6f5544-6aa8-4bf8-aeb4-cc68a4bba62e"
      },
      "source": [
        "from ampligraph.latent_features import TransE\n",
        "\n",
        "# Train a KGE model\n",
        "model = TransE(k=300, \n",
        "               epochs=100, \n",
        "               eta=1, \n",
        "               loss='multiclass_nll', \n",
        "               initializer='xavier', initializer_params={'uniform': False},\n",
        "               regularizer='LP', regularizer_params= {'lambda': 0.001, 'p': 3},\n",
        "               optimizer= 'adam', optimizer_params= {'lr': 0.0001}, \n",
        "               seed= 0, batches_count= 10, verbose=True)\n",
        "\n",
        "model.fit(X_train)\n",
        "# ----------------------\n",
        "# Evaluate: \n",
        "# Filtered evaluation with ranking strategy assigning worst rank to break ties\n",
        "\n",
        "from ampligraph.utils import save_model, restore_model\n",
        "save_model(model, 'TransE.pkl')\n",
        "model = restore_model('TransE.pkl')\n",
        "\n",
        "# create the filter \n",
        "X_filter = np.concatenate([X_train, X_valid, X_test], 0)\n",
        "\n",
        "# compute ranks\n",
        "ranks = evaluate_performance(X_test, \n",
        "                             model=model, \n",
        "                             filter_triples=X_filter)\n",
        "\n",
        "# ranks are computed per triple\n",
        "print('Test set:', X_test.shape)\n",
        "print('Size of ranks:', ranks.shape)\n",
        "\n",
        "# Aggregate metrics show the aggregate performance of the model on the test set using a single number\n",
        "display_aggregate_metrics(ranks)\n",
        "# ----------------------"
      ],
      "execution_count": null,
      "outputs": [
        {
          "output_type": "stream",
          "text": [
            "Average TransE Loss:   0.070149: 100%|██████████| 100/100 [00:12<00:00,  8.09epoch/s]\n",
            "100%|██████████| 1000/1000 [00:05<00:00, 172.67it/s]\n"
          ],
          "name": "stderr"
        },
        {
          "output_type": "stream",
          "text": [
            "Test set: (1000, 3)\n",
            "Size of ranks: (1000, 2)\n",
            "Mean Rank: 266.1925\n",
            "Mean Reciprocal Rank: 0.19770617707036262\n",
            "Hits@1: 0.1245\n",
            "Hits@10: 0.3455\n",
            "Hits@100: 0.664\n"
          ],
          "name": "stdout"
        }
      ]
    },
    {
      "cell_type": "markdown",
      "metadata": {
        "id": "sYMsDmRuQLem"
      },
      "source": [
        "# 4. Knowledge Discovery"
      ]
    },
    {
      "cell_type": "markdown",
      "metadata": {
        "id": "Xd_bvL6dkkj6"
      },
      "source": [
        "### Relations"
      ]
    },
    {
      "cell_type": "code",
      "metadata": {
        "id": "_xWtlPK3fstK",
        "colab": {
          "base_uri": "https://localhost:8080/"
        },
        "outputId": "0fa5b37a-3503-4e29-b6cd-c46b16854556"
      },
      "source": [
        "print('the number of relations: \\n', dataset['new_relation'].value_counts())"
      ],
      "execution_count": null,
      "outputs": [
        {
          "output_type": "stream",
          "text": [
            "the number of relations: \n",
            " disease_disease                    63192\n",
            "gene_gene                          24172\n",
            "disease_species                    22370\n",
            "gene_disease                       14220\n",
            "disease_gene                       13347\n",
            "disease_treat_procedure            10184\n",
            "treat_procedure_disease             8223\n",
            "drug_disease                        7250\n",
            "gene_treat_procedure                6142\n",
            "treat_procedure_treat_procedure     5625\n",
            "gene_species                        5298\n",
            "drug_gene                           5270\n",
            "drug_drug                           4613\n",
            "treat_procedure_gene                4602\n",
            "disease_symptom                     4354\n",
            "treat_procedure_species             4263\n",
            "disease_drug                        4044\n",
            "drug_species                        3680\n",
            "gene_drug                           3603\n",
            "symptom_disease                     3411\n",
            "symptom_symptom                     3266\n",
            "drug_treat_procedure                3229\n",
            "treat_procedure_drug                2578\n",
            "symptom_species                     1020\n",
            "gene_symptom                         614\n",
            "drug_symptom                         466\n",
            "treat_procedure_symptom              446\n",
            "symptom_treat_procedure              370\n",
            "symptom_gene                         309\n",
            "symptom_drug                         169\n",
            "Name: new_relation, dtype: int64\n"
          ],
          "name": "stdout"
        }
      ]
    },
    {
      "cell_type": "markdown",
      "metadata": {
        "id": "oGu6b-HnQRS3"
      },
      "source": [
        "##  Question - Answering\n",
        "\n",
        "``` \n",
        "    <head, relation, ?> \n",
        "    <head, ?,        tail>\n",
        "    <?,    relation, tail>\n",
        "```"
      ]
    },
    {
      "cell_type": "markdown",
      "metadata": {
        "id": "zq_rwrt5jTVJ"
      },
      "source": [
        "### Query 4: what are the possible therapeutic procedure of covid-19??"
      ]
    },
    {
      "cell_type": "code",
      "metadata": {
        "colab": {
          "base_uri": "https://localhost:8080/"
        },
        "id": "j_cm34I_QNH3",
        "outputId": "8324496d-5f1e-4604-c985-8ba13aa68bff"
      },
      "source": [
        "# Query: what are the possible therapeutic procedure of covid-19??\n",
        "\n",
        "from ampligraph.discovery import query_topn\n",
        "\n",
        "# restore the previously saved model to save time\n",
        "model = restore_model('TransE.pkl')\n",
        "\n",
        "triples, scores = query_topn(model, top_n=15, \n",
        "                             head='covid-19', \n",
        "                             relation='disease_treat_procedure', \n",
        "                             tail=None, \n",
        "                             ents_to_consider=None, \n",
        "                             rels_to_consider=None)\n",
        "\n",
        "for triple, score in zip(triples, scores):\n",
        "    print('Score: {} \\t {} '.format(score, triple))"
      ],
      "execution_count": null,
      "outputs": [
        {
          "output_type": "stream",
          "text": [
            "Score: -10.224977493286133 \t ['covid-19' 'disease_treat_procedure' 'extracted'] \n",
            "Score: -10.50957202911377 \t ['covid-19' 'disease_treat_procedure' 'detected'] \n",
            "Score: -10.69274616241455 \t ['covid-19' 'disease_treat_procedure' 'destruction'] \n",
            "Score: -10.793622970581055 \t ['covid-19' 'disease_treat_procedure' 'induction'] \n",
            "Score: -10.830591201782227 \t ['covid-19' 'disease_treat_procedure' 'adjustment'] \n",
            "Score: -10.852009773254395 \t ['covid-19' 'disease_treat_procedure' 'expression'] \n",
            "Score: -10.876237869262695 \t ['covid-19' 'disease_treat_procedure' 'diet'] \n",
            "Score: -10.881346702575684 \t ['covid-19' 'disease_treat_procedure' 'infiltration'] \n",
            "Score: -10.923327445983887 \t ['covid-19' 'disease_treat_procedure' 'reduction'] \n",
            "Score: -10.929838180541992 \t ['covid-19' 'disease_treat_procedure' 'isolation'] \n",
            "Score: -10.93027114868164 \t ['covid-19' 'disease_treat_procedure' 'change'] \n",
            "Score: -10.931217193603516 \t ['covid-19' 'disease_treat_procedure' 'release'] \n",
            "Score: -10.940086364746094 \t ['covid-19' 'disease_treat_procedure' 'enlarged'] \n",
            "Score: -10.942216873168945 \t ['covid-19' 'disease_treat_procedure' 'clearance'] \n",
            "Score: -10.943805694580078 \t ['covid-19' 'disease_treat_procedure' 'mechanical ventilation'] \n"
          ],
          "name": "stdout"
        }
      ]
    },
    {
      "cell_type": "code",
      "metadata": {
        "id": "njTpcGh0jBnU",
        "colab": {
          "base_uri": "https://localhost:8080/"
        },
        "outputId": "0bf0d31e-432d-4bdf-dc66-0eb241148127"
      },
      "source": [
        "# Query: what are the possible therapeutic procedure of covid-19??\n",
        "\n",
        "from ampligraph.discovery import query_topn\n",
        "\n",
        "# restore the previously saved model to save time\n",
        "model = restore_model('TransE.pkl')\n",
        "\n",
        "triples, scores = query_topn(model, top_n=15, \n",
        "                             head=None, \n",
        "                             relation='treat_procedure_disease', \n",
        "                             tail='covid-19', \n",
        "                             ents_to_consider=None, \n",
        "                             rels_to_consider=None)\n",
        "\n",
        "for triple, score in zip(triples, scores):\n",
        "    print('Score: {} \\t {} '.format(score, triple))"
      ],
      "execution_count": null,
      "outputs": [
        {
          "output_type": "stream",
          "text": [
            "Score: -11.123162269592285 \t ['vaccination' 'treat_procedure_disease' 'covid-19'] \n",
            "Score: -11.154512405395508 \t ['administration' 'treat_procedure_disease' 'covid-19'] \n",
            "Score: -11.207574844360352 \t ['reduction' 'treat_procedure_disease' 'covid-19'] \n",
            "Score: -11.22590446472168 \t ['detection' 'treat_procedure_disease' 'covid-19'] \n",
            "Score: -11.244354248046875 \t ['treatment' 'treat_procedure_disease' 'covid-19'] \n",
            "Score: -11.297548294067383 \t ['adoptive transfer' 'treat_procedure_disease' 'covid-19'] \n",
            "Score: -11.30508804321289 \t ['inoculation' 'treat_procedure_disease' 'covid-19'] \n",
            "Score: -11.320907592773438 \t ['injection' 'treat_procedure_disease' 'covid-19'] \n",
            "Score: -11.324865341186523 \t ['coagulation' 'treat_procedure_disease' 'covid-19'] \n",
            "Score: -11.32553768157959 \t ['isolation' 'treat_procedure_disease' 'covid-19'] \n",
            "Score: -11.343774795532227 \t ['change' 'treat_procedure_disease' 'covid-19'] \n",
            "Score: -11.347764015197754 \t ['enlargement' 'treat_procedure_disease' 'covid-19'] \n",
            "Score: -11.364706039428711 \t ['stimulation' 'treat_procedure_disease' 'covid-19'] \n",
            "Score: -11.365278244018555 \t ['delivery' 'treat_procedure_disease' 'covid-19'] \n",
            "Score: -11.367294311523438 \t ['expression' 'treat_procedure_disease' 'covid-19'] \n"
          ],
          "name": "stdout"
        }
      ]
    },
    {
      "cell_type": "markdown",
      "metadata": {
        "id": "M7ZUKoeVjuGN"
      },
      "source": [
        "### Query 2: What are related diseases of Covid-19"
      ]
    },
    {
      "cell_type": "code",
      "metadata": {
        "colab": {
          "base_uri": "https://localhost:8080/"
        },
        "id": "TSZ8QHf6QdgP",
        "outputId": "731fe8e0-ef1f-426e-ba56-bae5afa84448"
      },
      "source": [
        "# Predict relation\n",
        "\n",
        "triples, scores = query_topn(model, top_n=15, \n",
        "                             head='covid-19', \n",
        "                             relation='disease_disease', \n",
        "                             tail= None, \n",
        "                             ents_to_consider=None, \n",
        "                             rels_to_consider=None)\n",
        "\n",
        "for triple, score in zip(triples, scores):\n",
        "    print('Score: {} \\t {} '.format(score, triple))"
      ],
      "execution_count": null,
      "outputs": [
        {
          "output_type": "stream",
          "text": [
            "Score: -12.165374755859375 \t ['covid-19' 'disease_disease' 'covid-19'] \n",
            "Score: -13.526830673217773 \t ['covid-19' 'disease_disease' '2009'] \n",
            "Score: -13.63525390625 \t ['covid-19' 'disease_disease' 'severe'] \n",
            "Score: -13.637168884277344 \t ['covid-19' 'disease_disease' 'infectious'] \n",
            "Score: -13.657071113586426 \t ['covid-19' 'disease_disease' 'fatal'] \n",
            "Score: -13.709989547729492 \t ['covid-19' 'disease_disease' 'major'] \n",
            "Score: -13.716577529907227 \t ['covid-19' 'disease_disease' 'contagious'] \n",
            "Score: -13.841659545898438 \t ['covid-19' 'disease_disease' 'chronic'] \n",
            "Score: -13.939491271972656 \t ['covid-19' 'disease_disease' 'transmissible'] \n",
            "Score: -13.947660446166992 \t ['covid-19' 'disease_disease' 'acute respiratory syndrome coronavirus 2'] \n",
            "Score: -14.008952140808105 \t ['covid-19' 'disease_disease' 'childhood'] \n",
            "Score: -14.129085540771484 \t ['covid-19' 'disease_disease' 'lower'] \n",
            "Score: -14.135295867919922 \t ['covid-19' 'disease_disease' 'multi-organ failure'] \n",
            "Score: -14.260622024536133 \t ['covid-19' 'disease_disease' 'cns'] \n",
            "Score: -14.32809066772461 \t ['covid-19' 'disease_disease' 'high'] \n"
          ],
          "name": "stdout"
        }
      ]
    },
    {
      "cell_type": "code",
      "metadata": {
        "id": "Fo9TXKFbkRRT",
        "colab": {
          "base_uri": "https://localhost:8080/"
        },
        "outputId": "71a92e32-489f-4a31-fee0-1743b6bdc5fe"
      },
      "source": [
        "# Predict relation\n",
        "\n",
        "triples, scores = query_topn(model, top_n=15, \n",
        "                             head=None, \n",
        "                             relation='disease_disease', \n",
        "                             tail= 'covid-19', \n",
        "                             ents_to_consider=None, \n",
        "                             rels_to_consider=None)\n",
        "\n",
        "for triple, score in zip(triples, scores):\n",
        "    print('Score: {} \\t {} '.format(score, triple))"
      ],
      "execution_count": null,
      "outputs": [
        {
          "output_type": "stream",
          "text": [
            "Score: -12.165374755859375 \t ['covid-19' 'disease_disease' 'covid-19'] \n",
            "Score: -14.124876976013184 \t ['he' 'disease_disease' 'covid-19'] \n",
            "Score: -14.441706657409668 \t ['coronaviruses' 'disease_disease' 'covid-19'] \n",
            "Score: -14.49870491027832 \t ['alzheimer' 'disease_disease' 'covid-19'] \n",
            "Score: -14.559700012207031 \t ['noroviruses' 'disease_disease' 'covid-19'] \n",
            "Score: -14.576507568359375 \t ['blepharitis' 'disease_disease' 'covid-19'] \n",
            "Score: -14.577310562133789 \t ['sars cov infection' 'disease_disease' 'covid-19'] \n",
            "Score: -14.580307960510254 \t ['rabies' 'disease_disease' 'covid-19'] \n",
            "Score: -14.585343360900879 \t ['pneumoniae' 'disease_disease' 'covid-19'] \n",
            "Score: -14.597208023071289 \t ['fungal infection' 'disease_disease' 'covid-19'] \n",
            "Score: -14.631743431091309 \t ['dad' 'disease_disease' 'covid-19'] \n",
            "Score: -14.651535034179688 \t ['covid' 'disease_disease' 'covid-19'] \n",
            "Score: -14.671496391296387 \t ['cholera' 'disease_disease' 'covid-19'] \n",
            "Score: -14.684667587280273 \t ['hbov' 'disease_disease' 'covid-19'] \n",
            "Score: -14.70729923248291 \t ['leishmaniasis' 'disease_disease' 'covid-19'] \n"
          ],
          "name": "stdout"
        }
      ]
    },
    {
      "cell_type": "markdown",
      "metadata": {
        "id": "1tXmffPBkw7Y"
      },
      "source": [
        "### Query 1: What are the genes/proteins related to Covid-19"
      ]
    },
    {
      "cell_type": "code",
      "metadata": {
        "colab": {
          "base_uri": "https://localhost:8080/"
        },
        "id": "RZU9pJBXEvIG",
        "outputId": "d0a46cf6-f050-47b6-c55f-172d7ec0c042"
      },
      "source": [
        "# Predict relation\n",
        "\n",
        "triples, scores = query_topn(model, top_n=15, \n",
        "                             head='covid-19', \n",
        "                             relation='disease_gene', \n",
        "                             tail=None, \n",
        "                             ents_to_consider=None, \n",
        "                             rels_to_consider=None)\n",
        "\n",
        "for triple, score in zip(triples, scores):\n",
        "    print('Score: {} \\t {} '.format(score, triple))"
      ],
      "execution_count": null,
      "outputs": [
        {
          "output_type": "stream",
          "text": [
            "Score: -11.309284210205078 \t ['covid-19' 'disease_gene' 'rare'] \n",
            "Score: -11.598053932189941 \t ['covid-19' 'disease_gene' 'hong kong'] \n",
            "Score: -11.716827392578125 \t ['covid-19' 'disease_gene' 'spring'] \n",
            "Score: -11.957058906555176 \t ['covid-19' 'disease_gene' 'lobe'] \n",
            "Score: -12.004956245422363 \t ['covid-19' 'disease_gene' 'airway'] \n",
            "Score: -12.094305992126465 \t ['covid-19' 'disease_gene' 'wild'] \n",
            "Score: -12.152280807495117 \t ['covid-19' 'disease_gene' 'damage'] \n",
            "Score: -12.169944763183594 \t ['covid-19' 'disease_gene' 'small'] \n",
            "Score: -12.174610137939453 \t ['covid-19' 'disease_gene' 'cell'] \n",
            "Score: -12.176697731018066 \t ['covid-19' 'disease_gene' 'end'] \n",
            "Score: -12.213685989379883 \t ['covid-19' 'disease_gene' 'past'] \n",
            "Score: -12.216846466064453 \t ['covid-19' 'disease_gene' 'impact'] \n",
            "Score: -12.230427742004395 \t ['covid-19' 'disease_gene' 'host'] \n",
            "Score: -12.266889572143555 \t ['covid-19' 'disease_gene' 'bite'] \n",
            "Score: -12.269514083862305 \t ['covid-19' 'disease_gene' 'genome'] \n"
          ],
          "name": "stdout"
        }
      ]
    },
    {
      "cell_type": "code",
      "metadata": {
        "colab": {
          "base_uri": "https://localhost:8080/"
        },
        "id": "8Z7SxVTfIyCP",
        "outputId": "18a76985-b675-4987-bb44-147afcd56e84"
      },
      "source": [
        "# Predict relation\n",
        "\n",
        "triples, scores = query_topn(model, top_n=15, \n",
        "                             head= None, \n",
        "                             relation='gene_disease', \n",
        "                             tail='covid-19', \n",
        "                             ents_to_consider=None, \n",
        "                             rels_to_consider=None)\n",
        "\n",
        "for triple, score in zip(triples, scores):\n",
        "    print('Score: {} \\t {} '.format(score, triple))"
      ],
      "execution_count": null,
      "outputs": [
        {
          "output_type": "stream",
          "text": [
            "Score: -9.722570419311523 \t ['she' 'gene_disease' 'covid-19'] \n",
            "Score: -9.748113632202148 \t ['il' 'gene_disease' 'covid-19'] \n",
            "Score: -9.954036712646484 \t ['sex' 'gene_disease' 'covid-19'] \n",
            "Score: -9.964839935302734 \t ['pattern' 'gene_disease' 'covid-19'] \n",
            "Score: -10.002358436584473 \t ['impact' 'gene_disease' 'covid-19'] \n",
            "Score: -10.004868507385254 \t ['damage' 'gene_disease' 'covid-19'] \n",
            "Score: -10.018580436706543 \t ['ace2' 'gene_disease' 'covid-19'] \n",
            "Score: -10.036943435668945 \t ['antibody' 'gene_disease' 'covid-19'] \n",
            "Score: -10.03921890258789 \t ['protein' 'gene_disease' 'covid-19'] \n",
            "Score: -10.052689552307129 \t ['all' 'gene_disease' 'covid-19'] \n",
            "Score: -10.107821464538574 \t ['gene' 'gene_disease' 'covid-19'] \n",
            "Score: -10.111820220947266 \t ['csf' 'gene_disease' 'covid-19'] \n",
            "Score: -10.11377239227295 \t ['autophagy' 'gene_disease' 'covid-19'] \n",
            "Score: -10.126688003540039 \t ['mabs' 'gene_disease' 'covid-19'] \n",
            "Score: -10.143289566040039 \t ['hcov nl63' 'gene_disease' 'covid-19'] \n"
          ],
          "name": "stdout"
        }
      ]
    },
    {
      "cell_type": "markdown",
      "metadata": {
        "id": "6cuiw9D6ND6J"
      },
      "source": [
        "### Query 2: What species transmit the covid-19"
      ]
    },
    {
      "cell_type": "code",
      "metadata": {
        "colab": {
          "base_uri": "https://localhost:8080/"
        },
        "id": "C5JyaTDrFMmG",
        "outputId": "22865b2d-8918-4074-ce37-82b2d87c66bf"
      },
      "source": [
        "# Predict relation\n",
        "triples, scores = query_topn(model, top_n=30, \n",
        "                             tail=None, \n",
        "                             relation='disease_species', \n",
        "                             head='covid-19', \n",
        "                             ents_to_consider=None, \n",
        "                             rels_to_consider=None)\n",
        "\n",
        "for triple, score in zip(triples, scores):\n",
        "    print('Score: {} \\t {} '.format(score, triple))"
      ],
      "execution_count": null,
      "outputs": [
        {
          "output_type": "stream",
          "text": [
            "Score: -11.374004364013672 \t ['covid-19' 'disease_species' 'child'] \n",
            "Score: -11.460870742797852 \t ['covid-19' 'disease_species' 'dog'] \n",
            "Score: -11.500686645507812 \t ['covid-19' 'disease_species' 'cattle'] \n",
            "Score: -11.516824722290039 \t ['covid-19' 'disease_species' 'patient'] \n",
            "Score: -11.598112106323242 \t ['covid-19' 'disease_species' 'rabbit'] \n",
            "Score: -11.600951194763184 \t ['covid-19' 'disease_species' 'specie'] \n",
            "Score: -11.63563346862793 \t ['covid-19' 'disease_species' 'woman'] \n",
            "Score: -11.6459379196167 \t ['covid-19' 'disease_species' 'horse'] \n",
            "Score: -11.65051555633545 \t ['covid-19' 'disease_species' 'piglet'] \n",
            "Score: -11.67470645904541 \t ['covid-19' 'disease_species' 'swine'] \n",
            "Score: -11.689424514770508 \t ['covid-19' 'disease_species' 'calf'] \n",
            "Score: -11.718807220458984 \t ['covid-19' 'disease_species' 'sheep'] \n",
            "Score: -11.732292175292969 \t ['covid-19' 'disease_species' 'people'] \n",
            "Score: -11.736963272094727 \t ['covid-19' 'disease_species' 'human'] \n",
            "Score: -11.74500560760498 \t ['covid-19' 'disease_species' 'person'] \n",
            "Score: -11.749996185302734 \t ['covid-19' 'disease_species' 'infant'] \n",
            "Score: -11.765979766845703 \t ['covid-19' 'disease_species' 'chicken'] \n",
            "Score: -11.778512001037598 \t ['covid-19' 'disease_species' 'pig'] \n",
            "Score: -11.861072540283203 \t ['covid-19' 'disease_species' 'mouse'] \n",
            "Score: -11.88110065460205 \t ['covid-19' 'disease_species' 'man'] \n",
            "Score: -11.932731628417969 \t ['covid-19' 'disease_species' 'macaque'] \n",
            "Score: -11.944498062133789 \t ['covid-19' 'disease_species' 'rat'] \n",
            "Score: -11.962503433227539 \t ['covid-19' 'disease_species' 'guinea pig'] \n",
            "Score: -12.052244186401367 \t ['covid-19' 'disease_species' 'domestic cat'] \n",
            "Score: -12.058406829833984 \t ['covid-19' 'disease_species' 'cat'] \n",
            "Score: -12.112404823303223 \t ['covid-19' 'disease_species' 'livestock'] \n",
            "Score: -12.122339248657227 \t ['covid-19' 'disease_species' 'donkey'] \n",
            "Score: -12.133895874023438 \t ['covid-19' 'disease_species' 'cow'] \n",
            "Score: -12.155733108520508 \t ['covid-19' 'disease_species' 'animal'] \n",
            "Score: -12.159188270568848 \t ['covid-19' 'disease_species' 's. pneumoniae'] \n"
          ],
          "name": "stdout"
        }
      ]
    },
    {
      "cell_type": "markdown",
      "metadata": {
        "id": "ZEt3e55_NwvA"
      },
      "source": [
        "### Query 3: what are symptoms of the covid-19"
      ]
    },
    {
      "cell_type": "code",
      "metadata": {
        "colab": {
          "base_uri": "https://localhost:8080/"
        },
        "id": "EMoR_zzIOnLJ",
        "outputId": "2ac7bb20-3960-4854-b475-b6fa786ba95c"
      },
      "source": [
        "triples, scores = query_topn(model, top_n=15, \n",
        "                             tail=None, \n",
        "                             relation='disease_symptom', \n",
        "                             head='covid-19', \n",
        "                             ents_to_consider=None, \n",
        "                             rels_to_consider=None)\n",
        "\n",
        "for triple, score in zip(triples, scores):\n",
        "    print('Score: {} \\t {} '.format(score, triple))"
      ],
      "execution_count": null,
      "outputs": [
        {
          "output_type": "stream",
          "text": [
            "Score: -10.652080535888672 \t ['covid-19' 'disease_symptom' 'discharge'] \n",
            "Score: -10.707016944885254 \t ['covid-19' 'disease_symptom' 'discomfort'] \n",
            "Score: -10.726543426513672 \t ['covid-19' 'disease_symptom' 'severe diarrhea'] \n",
            "Score: -10.758989334106445 \t ['covid-19' 'disease_symptom' 'imbalance'] \n",
            "Score: -10.762752532958984 \t ['covid-19' 'disease_symptom' 'finding'] \n",
            "Score: -10.780302047729492 \t ['covid-19' 'disease_symptom' 'organ failure'] \n",
            "Score: -10.82988166809082 \t ['covid-19' 'disease_symptom' 'symptom'] \n",
            "Score: -10.914045333862305 \t ['covid-19' 'disease_symptom' 'insomnia'] \n",
            "Score: -10.963275909423828 \t ['covid-19' 'disease_symptom' 'flaccid paralysis'] \n",
            "Score: -10.974077224731445 \t ['covid-19' 'disease_symptom' 'emaciation'] \n",
            "Score: -11.037582397460938 \t ['covid-19' 'disease_symptom' 'illness'] \n",
            "Score: -11.059940338134766 \t ['covid-19' 'disease_symptom' 'febrile'] \n",
            "Score: -11.08718204498291 \t ['covid-19' 'disease_symptom' 'prodrome'] \n",
            "Score: -11.091679573059082 \t ['covid-19' 'disease_symptom' 'ill'] \n",
            "Score: -11.121858596801758 \t ['covid-19' 'disease_symptom' 'exhaustion'] \n"
          ],
          "name": "stdout"
        }
      ]
    },
    {
      "cell_type": "code",
      "metadata": {
        "colab": {
          "base_uri": "https://localhost:8080/"
        },
        "id": "WB8Itq-DSAfL",
        "outputId": "e16df724-793f-4b55-d238-09358a2376f9"
      },
      "source": [
        "triples, scores = query_topn(model, top_n=15, \n",
        "                             head=None, \n",
        "                             relation='symptom_disease', \n",
        "                             tail='covid-19', \n",
        "                             ents_to_consider=None, \n",
        "                             rels_to_consider=None)\n",
        "\n",
        "for triple, score in zip(triples, scores):\n",
        "    print('Score: {} \\t {} '.format(score, triple))"
      ],
      "execution_count": null,
      "outputs": [
        {
          "output_type": "stream",
          "text": [
            "Score: -9.79819393157959 \t ['finding' 'symptom_disease' 'covid-19'] \n",
            "Score: -9.902950286865234 \t ['severe diarrhea' 'symptom_disease' 'covid-19'] \n",
            "Score: -9.911456108093262 \t ['imbalance' 'symptom_disease' 'covid-19'] \n",
            "Score: -9.968975067138672 \t ['discharge' 'symptom_disease' 'covid-19'] \n",
            "Score: -10.052539825439453 \t ['symptom' 'symptom_disease' 'covid-19'] \n",
            "Score: -10.113763809204102 \t ['discomfort' 'symptom_disease' 'covid-19'] \n",
            "Score: -10.165021896362305 \t ['joint pain' 'symptom_disease' 'covid-19'] \n",
            "Score: -10.179061889648438 \t ['weakness' 'symptom_disease' 'covid-19'] \n",
            "Score: -10.205561637878418 \t ['cyanosis' 'symptom_disease' 'covid-19'] \n",
            "Score: -10.23859977722168 \t ['nasal congestion' 'symptom_disease' 'covid-19'] \n",
            "Score: -10.327827453613281 \t ['watery diarrhea' 'symptom_disease' 'covid-19'] \n",
            "Score: -10.34747314453125 \t ['syncope' 'symptom_disease' 'covid-19'] \n",
            "Score: -10.370210647583008 \t ['anesthesia' 'symptom_disease' 'covid-19'] \n",
            "Score: -10.378181457519531 \t ['pyrexia' 'symptom_disease' 'covid-19'] \n",
            "Score: -10.403457641601562 \t ['vomiting' 'symptom_disease' 'covid-19'] \n"
          ],
          "name": "stdout"
        }
      ]
    },
    {
      "cell_type": "markdown",
      "metadata": {
        "id": "94nJ6TmMd8pE"
      },
      "source": [
        "### Query 5: What are potential drugs to treat COVID-19?"
      ]
    },
    {
      "cell_type": "code",
      "metadata": {
        "colab": {
          "base_uri": "https://localhost:8080/"
        },
        "id": "7sPl6SFZeXX-",
        "outputId": "afdfd62b-6533-4d05-8822-6f5734cda924"
      },
      "source": [
        "\n",
        "triples, scores = query_topn(model, top_n=15, \n",
        "                             head=None, \n",
        "                             relation='drug_disease', \n",
        "                             tail='covid-19', \n",
        "                             ents_to_consider=None, \n",
        "                             rels_to_consider=None)\n",
        "\n",
        "for triple, score in zip(triples, scores):\n",
        "    print('Score: {} \\t {} '.format(score, triple))"
      ],
      "execution_count": null,
      "outputs": [
        {
          "output_type": "stream",
          "text": [
            "Score: -9.31729507446289 \t ['i' 'drug_disease' 'covid-19'] \n",
            "Score: -9.387167930603027 \t ['metformin' 'drug_disease' 'covid-19'] \n",
            "Score: -9.464078903198242 \t ['5' 'drug_disease' 'covid-19'] \n",
            "Score: -9.476957321166992 \t ['melatonin' 'drug_disease' 'covid-19'] \n",
            "Score: -9.489400863647461 \t ['ribavirin' 'drug_disease' 'covid-19'] \n",
            "Score: -9.519683837890625 \t ['vitamin d' 'drug_disease' 'covid-19'] \n",
            "Score: -9.534769058227539 \t ['glycyrrhizin' 'drug_disease' 'covid-19'] \n",
            "Score: -9.536579132080078 \t ['chloroquine' 'drug_disease' 'covid-19'] \n",
            "Score: -9.543299674987793 \t ['2' 'drug_disease' 'covid-19'] \n",
            "Score: -9.571304321289062 \t ['drug' 'drug_disease' 'covid-19'] \n",
            "Score: -9.615782737731934 \t ['β' 'drug_disease' 'covid-19'] \n",
            "Score: -9.617036819458008 \t ['curcumin' 'drug_disease' 'covid-19'] \n",
            "Score: -9.617403984069824 \t ['corticosteroid' 'drug_disease' 'covid-19'] \n",
            "Score: -9.6458740234375 \t ['3' 'drug_disease' 'covid-19'] \n",
            "Score: -9.656030654907227 \t ['arbidol' 'drug_disease' 'covid-19'] \n"
          ],
          "name": "stdout"
        }
      ]
    },
    {
      "cell_type": "code",
      "metadata": {
        "colab": {
          "base_uri": "https://localhost:8080/"
        },
        "id": "37gfI8D62pOP",
        "outputId": "096fd77e-cfab-4c17-cc99-0c71b8a2e2cf"
      },
      "source": [
        "triples, scores = query_topn(model, top_n=15, \n",
        "                             tail=None, \n",
        "                             relation='disease_drug', \n",
        "                             head='covid-19', \n",
        "                             ents_to_consider=None, \n",
        "                             rels_to_consider=None)\n",
        "\n",
        "for triple, score in zip(triples, scores):\n",
        "    print('Score: {} \\t {} '.format(score, triple))"
      ],
      "execution_count": null,
      "outputs": [
        {
          "output_type": "stream",
          "text": [
            "Score: -10.11438274383545 \t ['covid-19' 'disease_drug' '35'] \n",
            "Score: -10.127374649047852 \t ['covid-19' 'disease_drug' 'trizol'] \n",
            "Score: -10.203775405883789 \t ['covid-19' 'disease_drug' 'dmem'] \n",
            "Score: -10.26362419128418 \t ['covid-19' 'disease_drug' '3'] \n",
            "Score: -10.276357650756836 \t ['covid-19' 'disease_drug' '6'] \n",
            "Score: -10.295913696289062 \t ['covid-19' 'disease_drug' 'ci'] \n",
            "Score: -10.324422836303711 \t ['covid-19' 'disease_drug' '5'] \n",
            "Score: -10.331746101379395 \t ['covid-19' 'disease_drug' '2'] \n",
            "Score: -10.370031356811523 \t ['covid-19' 'disease_drug' 'pfu'] \n",
            "Score: -10.377532005310059 \t ['covid-19' 'disease_drug' 'fomite'] \n",
            "Score: -10.448404312133789 \t ['covid-19' 'disease_drug' 'met'] \n",
            "Score: -10.452817916870117 \t ['covid-19' 'disease_drug' 'α'] \n",
            "Score: -10.461031913757324 \t ['covid-19' 'disease_drug' 'od'] \n",
            "Score: -10.461099624633789 \t ['covid-19' 'disease_drug' 'dexamethasone'] \n",
            "Score: -10.4702730178833 \t ['covid-19' 'disease_drug' 'oxygen'] \n"
          ],
          "name": "stdout"
        }
      ]
    },
    {
      "cell_type": "code",
      "metadata": {
        "id": "qxXS3g4yJT15"
      },
      "source": [
        "# Compare the raw call and graph embedding results for the symptoms query\n",
        "\n",
        "## raw call\n",
        "#dataset.loc[(dataset['subject']=='symptom')].head(20)\n",
        "\n",
        "#####==> the result of raw call seems to be better"
      ],
      "execution_count": null,
      "outputs": []
    },
    {
      "cell_type": "markdown",
      "metadata": {
        "id": "E7jHL_B1rB2d"
      },
      "source": [
        "###Query 7: What are treatment procedures related to treatment procedures for COVID-19?"
      ]
    },
    {
      "cell_type": "markdown",
      "metadata": {
        "id": "-ATK0h_FzBtk"
      },
      "source": [
        "###Using of 'diet','isolation', 'vaccination', 'coagulation' & 'stimulation'"
      ]
    },
    {
      "cell_type": "markdown",
      "metadata": {
        "id": "YiYkE2HuvRLY"
      },
      "source": [
        "###using 'diet'"
      ]
    },
    {
      "cell_type": "code",
      "metadata": {
        "id": "W-wl5yQgLRat",
        "colab": {
          "base_uri": "https://localhost:8080/"
        },
        "outputId": "28fccfd0-6321-42a1-e759-2a2464bd9e97"
      },
      "source": [
        "triples, scores = query_topn(model, top_n=15, \n",
        "                             head=None, \n",
        "                             relation='treat_procedure_treat_procedure', \n",
        "                             tail='diet', \n",
        "                             ents_to_consider=None, \n",
        "                             rels_to_consider=None)\n",
        "\n",
        "for triple, score in zip(triples, scores):\n",
        "    print('Score: {} \\t {} '.format(score, triple))"
      ],
      "execution_count": null,
      "outputs": [
        {
          "output_type": "stream",
          "text": [
            "Score: -7.080059051513672 \t ['diet' 'treat_procedure_treat_procedure' 'diet'] \n",
            "Score: -7.201196193695068 \t ['nephrectomy' 'treat_procedure_treat_procedure' 'diet'] \n",
            "Score: -7.300691604614258 \t ['aim' 'treat_procedure_treat_procedure' 'diet'] \n",
            "Score: -7.305400848388672 \t ['guidance' 'treat_procedure_treat_procedure' 'diet'] \n",
            "Score: -7.406518936157227 \t ['vaccination' 'treat_procedure_treat_procedure' 'diet'] \n",
            "Score: -7.409911155700684 \t ['delivery' 'treat_procedure_treat_procedure' 'diet'] \n",
            "Score: -7.4114837646484375 \t ['application' 'treat_procedure_treat_procedure' 'diet'] \n",
            "Score: -7.429228782653809 \t ['immunization' 'treat_procedure_treat_procedure' 'diet'] \n",
            "Score: -7.429618835449219 \t ['aspiration' 'treat_procedure_treat_procedure' 'diet'] \n",
            "Score: -7.443439483642578 \t ['tracheal intubation' 'treat_procedure_treat_procedure' 'diet'] \n",
            "Score: -7.4492902755737305 \t ['administration' 'treat_procedure_treat_procedure' 'diet'] \n",
            "Score: -7.449623107910156 \t ['oxygen therapy' 'treat_procedure_treat_procedure' 'diet'] \n",
            "Score: -7.494085788726807 \t ['triage' 'treat_procedure_treat_procedure' 'diet'] \n",
            "Score: -7.503653526306152 \t ['antiviral therapy' 'treat_procedure_treat_procedure' 'diet'] \n",
            "Score: -7.5223069190979 \t ['regimen' 'treat_procedure_treat_procedure' 'diet'] \n"
          ],
          "name": "stdout"
        }
      ]
    },
    {
      "cell_type": "code",
      "metadata": {
        "colab": {
          "base_uri": "https://localhost:8080/"
        },
        "id": "VBMNDpqityo_",
        "outputId": "edda409a-ffbe-439e-feec-e16366b3a779"
      },
      "source": [
        "triples, scores = query_topn(model, top_n=15, \n",
        "                             tail=None, \n",
        "                             relation='treat_procedure_treat_procedure', \n",
        "                             head='diet', \n",
        "                             ents_to_consider=None, \n",
        "                             rels_to_consider=None)\n",
        "\n",
        "for triple, score in zip(triples, scores):\n",
        "    print('Score: {} \\t {} '.format(score, triple))"
      ],
      "execution_count": null,
      "outputs": [
        {
          "output_type": "stream",
          "text": [
            "Score: -7.080059051513672 \t ['diet' 'treat_procedure_treat_procedure' 'diet'] \n",
            "Score: -7.711861610412598 \t ['diet' 'treat_procedure_treat_procedure' 'prevention'] \n",
            "Score: -7.819136142730713 \t ['diet' 'treat_procedure_treat_procedure' 'extubation'] \n",
            "Score: -7.828660488128662 \t ['diet' 'treat_procedure_treat_procedure' 'intervention'] \n",
            "Score: -7.881735801696777 \t ['diet' 'treat_procedure_treat_procedure' 'oral administration'] \n",
            "Score: -7.8910136222839355 \t ['diet' 'treat_procedure_treat_procedure' 'operation'] \n",
            "Score: -7.893488883972168 \t ['diet' 'treat_procedure_treat_procedure' 'procedure'] \n",
            "Score: -7.970276832580566 \t ['diet' 'treat_procedure_treat_procedure' 'glucocorticoid therapy'] \n",
            "Score: -7.971500396728516 \t ['diet' 'treat_procedure_treat_procedure' 'discussion'] \n",
            "Score: -7.972485542297363 \t ['diet' 'treat_procedure_treat_procedure' 'therapy'] \n",
            "Score: -7.976380825042725 \t ['diet' 'treat_procedure_treat_procedure' 'clearance'] \n",
            "Score: -7.987376689910889 \t ['diet' 'treat_procedure_treat_procedure' 'release'] \n",
            "Score: -7.990049839019775 \t ['diet' 'treat_procedure_treat_procedure' 'prophylaxis'] \n",
            "Score: -8.025335311889648 \t ['diet' 'treat_procedure_treat_procedure' 'treatment'] \n",
            "Score: -8.033708572387695 \t ['diet' 'treat_procedure_treat_procedure' 'removal'] \n"
          ],
          "name": "stdout"
        }
      ]
    },
    {
      "cell_type": "markdown",
      "metadata": {
        "id": "zeDIldqGvY0t"
      },
      "source": [
        "###using 'isolation'"
      ]
    },
    {
      "cell_type": "code",
      "metadata": {
        "colab": {
          "base_uri": "https://localhost:8080/"
        },
        "id": "5yp8bg3vvnqo",
        "outputId": "b9dc7c22-5511-4025-c033-39f2af1b6b7e"
      },
      "source": [
        "triples, scores = query_topn(model, top_n=15, \n",
        "                             head=None, \n",
        "                             relation='treat_procedure_treat_procedure', \n",
        "                             tail='isolation', \n",
        "                             ents_to_consider=None, \n",
        "                             rels_to_consider=None)\n",
        "\n",
        "for triple, score in zip(triples, scores):\n",
        "    print('Score: {} \\t {} '.format(score, triple))"
      ],
      "execution_count": null,
      "outputs": [
        {
          "output_type": "stream",
          "text": [
            "Score: -7.08005952835083 \t ['isolation' 'treat_procedure_treat_procedure' 'isolation'] \n",
            "Score: -7.373478412628174 \t ['immunization' 'treat_procedure_treat_procedure' 'isolation'] \n",
            "Score: -7.379122734069824 \t ['application' 'treat_procedure_treat_procedure' 'isolation'] \n",
            "Score: -7.383002758026123 \t ['delivery' 'treat_procedure_treat_procedure' 'isolation'] \n",
            "Score: -7.392162322998047 \t ['nephrectomy' 'treat_procedure_treat_procedure' 'isolation'] \n",
            "Score: -7.4100494384765625 \t ['vaccination' 'treat_procedure_treat_procedure' 'isolation'] \n",
            "Score: -7.451627731323242 \t ['guidance' 'treat_procedure_treat_procedure' 'isolation'] \n",
            "Score: -7.485877990722656 \t ['change' 'treat_procedure_treat_procedure' 'isolation'] \n",
            "Score: -7.5008087158203125 \t ['administration' 'treat_procedure_treat_procedure' 'isolation'] \n",
            "Score: -7.502677917480469 \t ['reduction' 'treat_procedure_treat_procedure' 'isolation'] \n",
            "Score: -7.505641937255859 \t ['aim' 'treat_procedure_treat_procedure' 'isolation'] \n",
            "Score: -7.533802509307861 \t ['presence' 'treat_procedure_treat_procedure' 'isolation'] \n",
            "Score: -7.616001129150391 \t ['detection' 'treat_procedure_treat_procedure' 'isolation'] \n",
            "Score: -7.623244285583496 \t ['oxygen therapy' 'treat_procedure_treat_procedure' 'isolation'] \n",
            "Score: -7.636043071746826 \t ['expression' 'treat_procedure_treat_procedure' 'isolation'] \n"
          ],
          "name": "stdout"
        }
      ]
    },
    {
      "cell_type": "code",
      "metadata": {
        "colab": {
          "base_uri": "https://localhost:8080/"
        },
        "id": "id8TqbcnvzTV",
        "outputId": "7fa713f4-02ee-4952-a010-d5cc26e9c231"
      },
      "source": [
        "triples, scores = query_topn(model, top_n=15, \n",
        "                             tail=None, \n",
        "                             relation='treat_procedure_treat_procedure', \n",
        "                             head='isolation', \n",
        "                             ents_to_consider=None, \n",
        "                             rels_to_consider=None)\n",
        "\n",
        "for triple, score in zip(triples, scores):\n",
        "    print('Score: {} \\t {} '.format(score, triple))"
      ],
      "execution_count": null,
      "outputs": [
        {
          "output_type": "stream",
          "text": [
            "Score: -6.92832088470459 \t ['isolation' 'treat_procedure_treat_procedure' 'prevention'] \n",
            "Score: -7.08005952835083 \t ['isolation' 'treat_procedure_treat_procedure' 'isolation'] \n",
            "Score: -7.123196125030518 \t ['isolation' 'treat_procedure_treat_procedure' 'clearance'] \n",
            "Score: -7.15065336227417 \t ['isolation' 'treat_procedure_treat_procedure' 'intervention'] \n",
            "Score: -7.164436340332031 \t ['isolation' 'treat_procedure_treat_procedure' 'release'] \n",
            "Score: -7.173216819763184 \t ['isolation' 'treat_procedure_treat_procedure' 'extubation'] \n",
            "Score: -7.179913520812988 \t ['isolation' 'treat_procedure_treat_procedure' 'detection'] \n",
            "Score: -7.193852424621582 \t ['isolation' 'treat_procedure_treat_procedure' 'treatment'] \n",
            "Score: -7.194944381713867 \t ['isolation' 'treat_procedure_treat_procedure' 'reduction'] \n",
            "Score: -7.204606533050537 \t ['isolation' 'treat_procedure_treat_procedure' 'therapy'] \n",
            "Score: -7.2100043296813965 \t ['isolation' 'treat_procedure_treat_procedure' 'procedure'] \n",
            "Score: -7.218847274780273 \t ['isolation' 'treat_procedure_treat_procedure' 'removal'] \n",
            "Score: -7.25307559967041 \t ['isolation' 'treat_procedure_treat_procedure' 'prophylaxis'] \n",
            "Score: -7.254052639007568 \t ['isolation' 'treat_procedure_treat_procedure' 'induction'] \n",
            "Score: -7.2770562171936035 \t ['isolation' 'treat_procedure_treat_procedure' 'discussion'] \n"
          ],
          "name": "stdout"
        }
      ]
    },
    {
      "cell_type": "markdown",
      "metadata": {
        "id": "ynG3hTeuwRM8"
      },
      "source": [
        "###using 'vaccination'"
      ]
    },
    {
      "cell_type": "code",
      "metadata": {
        "colab": {
          "base_uri": "https://localhost:8080/"
        },
        "id": "vPzkKk9Hwg0i",
        "outputId": "9f71499f-c412-4025-9c70-3c0bd77fe220"
      },
      "source": [
        "triples, scores = query_topn(model, top_n=15, \n",
        "                             head=None, \n",
        "                             relation='treat_procedure_treat_procedure', \n",
        "                             tail='vaccination', \n",
        "                             ents_to_consider=None, \n",
        "                             rels_to_consider=None)\n",
        "\n",
        "for triple, score in zip(triples, scores):\n",
        "    print('Score: {} \\t {} '.format(score, triple))"
      ],
      "execution_count": null,
      "outputs": [
        {
          "output_type": "stream",
          "text": [
            "Score: -7.08005952835083 \t ['vaccination' 'treat_procedure_treat_procedure' 'vaccination'] \n",
            "Score: -7.308746337890625 \t ['immunization' 'treat_procedure_treat_procedure' 'vaccination'] \n",
            "Score: -7.345425605773926 \t ['delivery' 'treat_procedure_treat_procedure' 'vaccination'] \n",
            "Score: -7.438643455505371 \t ['application' 'treat_procedure_treat_procedure' 'vaccination'] \n",
            "Score: -7.494252681732178 \t ['administration' 'treat_procedure_treat_procedure' 'vaccination'] \n",
            "Score: -7.532453536987305 \t ['isolation' 'treat_procedure_treat_procedure' 'vaccination'] \n",
            "Score: -7.559513092041016 \t ['nephrectomy' 'treat_procedure_treat_procedure' 'vaccination'] \n",
            "Score: -7.568544387817383 \t ['guidance' 'treat_procedure_treat_procedure' 'vaccination'] \n",
            "Score: -7.586875915527344 \t ['reduction' 'treat_procedure_treat_procedure' 'vaccination'] \n",
            "Score: -7.590907096862793 \t ['change' 'treat_procedure_treat_procedure' 'vaccination'] \n",
            "Score: -7.615630149841309 \t ['presence' 'treat_procedure_treat_procedure' 'vaccination'] \n",
            "Score: -7.619194984436035 \t ['aim' 'treat_procedure_treat_procedure' 'vaccination'] \n",
            "Score: -7.641671180725098 \t ['expression' 'treat_procedure_treat_procedure' 'vaccination'] \n",
            "Score: -7.704512596130371 \t ['detection' 'treat_procedure_treat_procedure' 'vaccination'] \n",
            "Score: -7.7061333656311035 \t ['oxygen therapy' 'treat_procedure_treat_procedure' 'vaccination'] \n"
          ],
          "name": "stdout"
        }
      ]
    },
    {
      "cell_type": "code",
      "metadata": {
        "colab": {
          "base_uri": "https://localhost:8080/"
        },
        "id": "0GrHI_p2wrfX",
        "outputId": "86831171-19a7-474e-9c30-936f39da7a35"
      },
      "source": [
        "triples, scores = query_topn(model, top_n=15, \n",
        "                             tail=None, \n",
        "                             relation='treat_procedure_treat_procedure', \n",
        "                             head='vaccination', \n",
        "                             ents_to_consider=None, \n",
        "                             rels_to_consider=None)\n",
        "\n",
        "for triple, score in zip(triples, scores):\n",
        "    print('Score: {} \\t {} '.format(score, triple))"
      ],
      "execution_count": null,
      "outputs": [
        {
          "output_type": "stream",
          "text": [
            "Score: -6.838803291320801 \t ['vaccination' 'treat_procedure_treat_procedure' 'prevention'] \n",
            "Score: -7.042422294616699 \t ['vaccination' 'treat_procedure_treat_procedure' 'release'] \n",
            "Score: -7.08005952835083 \t ['vaccination' 'treat_procedure_treat_procedure' 'vaccination'] \n",
            "Score: -7.088526725769043 \t ['vaccination' 'treat_procedure_treat_procedure' 'intervention'] \n",
            "Score: -7.089054107666016 \t ['vaccination' 'treat_procedure_treat_procedure' 'clearance'] \n",
            "Score: -7.134792804718018 \t ['vaccination' 'treat_procedure_treat_procedure' 'treatment'] \n",
            "Score: -7.152895927429199 \t ['vaccination' 'treat_procedure_treat_procedure' 'detection'] \n",
            "Score: -7.1648406982421875 \t ['vaccination' 'treat_procedure_treat_procedure' 'reduction'] \n",
            "Score: -7.166986465454102 \t ['vaccination' 'treat_procedure_treat_procedure' 'induction'] \n",
            "Score: -7.169870376586914 \t ['vaccination' 'treat_procedure_treat_procedure' 'therapy'] \n",
            "Score: -7.188838958740234 \t ['vaccination' 'treat_procedure_treat_procedure' 'procedure'] \n",
            "Score: -7.19663143157959 \t ['vaccination' 'treat_procedure_treat_procedure' 'removal'] \n",
            "Score: -7.20953369140625 \t ['vaccination' 'treat_procedure_treat_procedure' 'oral administration'] \n",
            "Score: -7.233019828796387 \t ['vaccination' 'treat_procedure_treat_procedure' 'prophylaxis'] \n",
            "Score: -7.257256507873535 \t ['vaccination' 'treat_procedure_treat_procedure' 'discussion'] \n"
          ],
          "name": "stdout"
        }
      ]
    },
    {
      "cell_type": "markdown",
      "metadata": {
        "id": "BfwbIYDixUeJ"
      },
      "source": [
        "###using 'coagulation'"
      ]
    },
    {
      "cell_type": "code",
      "metadata": {
        "colab": {
          "base_uri": "https://localhost:8080/"
        },
        "id": "4Edk4xZ3xXWP",
        "outputId": "aa14cf54-60df-4a59-f051-78de29ca7761"
      },
      "source": [
        "triples, scores = query_topn(model, top_n=15, \n",
        "                             head=None, \n",
        "                             relation='treat_procedure_treat_procedure', \n",
        "                             tail='coagulation', \n",
        "                             ents_to_consider=None, \n",
        "                             rels_to_consider=None)\n",
        "\n",
        "for triple, score in zip(triples, scores):\n",
        "    print('Score: {} \\t {} '.format(score, triple))"
      ],
      "execution_count": null,
      "outputs": [
        {
          "output_type": "stream",
          "text": [
            "Score: -7.080059051513672 \t ['coagulation' 'treat_procedure_treat_procedure' 'coagulation'] \n",
            "Score: -7.155509948730469 \t ['nephrectomy' 'treat_procedure_treat_procedure' 'coagulation'] \n",
            "Score: -7.299044609069824 \t ['aim' 'treat_procedure_treat_procedure' 'coagulation'] \n",
            "Score: -7.316082000732422 \t ['guidance' 'treat_procedure_treat_procedure' 'coagulation'] \n",
            "Score: -7.336625576019287 \t ['delivery' 'treat_procedure_treat_procedure' 'coagulation'] \n",
            "Score: -7.338357925415039 \t ['aspiration' 'treat_procedure_treat_procedure' 'coagulation'] \n",
            "Score: -7.359601020812988 \t ['immunization' 'treat_procedure_treat_procedure' 'coagulation'] \n",
            "Score: -7.3657121658325195 \t ['vaccination' 'treat_procedure_treat_procedure' 'coagulation'] \n",
            "Score: -7.38093376159668 \t ['tracheal intubation' 'treat_procedure_treat_procedure' 'coagulation'] \n",
            "Score: -7.3866753578186035 \t ['application' 'treat_procedure_treat_procedure' 'coagulation'] \n",
            "Score: -7.449010848999023 \t ['oxygen therapy' 'treat_procedure_treat_procedure' 'coagulation'] \n",
            "Score: -7.464221954345703 \t ['administration' 'treat_procedure_treat_procedure' 'coagulation'] \n",
            "Score: -7.4781036376953125 \t ['isolation' 'treat_procedure_treat_procedure' 'coagulation'] \n",
            "Score: -7.50919246673584 \t ['change' 'treat_procedure_treat_procedure' 'coagulation'] \n",
            "Score: -7.515688896179199 \t ['triage' 'treat_procedure_treat_procedure' 'coagulation'] \n"
          ],
          "name": "stdout"
        }
      ]
    },
    {
      "cell_type": "code",
      "metadata": {
        "colab": {
          "base_uri": "https://localhost:8080/"
        },
        "id": "VRgBcwinxqSz",
        "outputId": "4ab95a74-d5ab-4e31-8ad9-ef9e79e7d2f3"
      },
      "source": [
        "triples, scores = query_topn(model, top_n=15, \n",
        "                             tail=None, \n",
        "                             relation='treat_procedure_treat_procedure', \n",
        "                             head='coagulation', \n",
        "                             ents_to_consider=None, \n",
        "                             rels_to_consider=None)\n",
        "\n",
        "for triple, score in zip(triples, scores):\n",
        "    print('Score: {} \\t {} '.format(score, triple))"
      ],
      "execution_count": null,
      "outputs": [
        {
          "output_type": "stream",
          "text": [
            "Score: -7.080059051513672 \t ['coagulation' 'treat_procedure_treat_procedure' 'coagulation'] \n",
            "Score: -8.002315521240234 \t ['coagulation' 'treat_procedure_treat_procedure' 'extubation'] \n",
            "Score: -8.081596374511719 \t ['coagulation' 'treat_procedure_treat_procedure' 'prevention'] \n",
            "Score: -8.189035415649414 \t ['coagulation' 'treat_procedure_treat_procedure' 'operation'] \n",
            "Score: -8.235719680786133 \t ['coagulation' 'treat_procedure_treat_procedure' 'procedure'] \n",
            "Score: -8.246740341186523 \t ['coagulation' 'treat_procedure_treat_procedure' 'intervention'] \n",
            "Score: -8.247796058654785 \t ['coagulation' 'treat_procedure_treat_procedure' 'release'] \n",
            "Score: -8.260361671447754 \t ['coagulation' 'treat_procedure_treat_procedure' 'destruction'] \n",
            "Score: -8.268036842346191 \t ['coagulation' 'treat_procedure_treat_procedure' 'prophylaxis'] \n",
            "Score: -8.287433624267578 \t ['coagulation' 'treat_procedure_treat_procedure' 'glucocorticoid therapy'] \n",
            "Score: -8.30639362335205 \t ['coagulation' 'treat_procedure_treat_procedure' 'therapy'] \n",
            "Score: -8.317075729370117 \t ['coagulation' 'treat_procedure_treat_procedure' 'treatment'] \n",
            "Score: -8.326388359069824 \t ['coagulation' 'treat_procedure_treat_procedure' 'oral administration'] \n",
            "Score: -8.32914924621582 \t ['coagulation' 'treat_procedure_treat_procedure' 'discussion'] \n",
            "Score: -8.342117309570312 \t ['coagulation' 'treat_procedure_treat_procedure' 'clearance'] \n"
          ],
          "name": "stdout"
        }
      ]
    },
    {
      "cell_type": "markdown",
      "metadata": {
        "id": "m4xHuJbDybY6"
      },
      "source": [
        "###using 'stimulation'"
      ]
    },
    {
      "cell_type": "code",
      "metadata": {
        "colab": {
          "base_uri": "https://localhost:8080/"
        },
        "id": "HRj2WIw5ylTJ",
        "outputId": "857ff5a0-c532-4906-c089-87332c090f83"
      },
      "source": [
        "triples, scores = query_topn(model, top_n=15, \n",
        "                             head=None, \n",
        "                             relation='treat_procedure_treat_procedure', \n",
        "                             tail='stimulation', \n",
        "                             ents_to_consider=None, \n",
        "                             rels_to_consider=None)\n",
        "\n",
        "for triple, score in zip(triples, scores):\n",
        "    print('Score: {} \\t {} '.format(score, triple))"
      ],
      "execution_count": null,
      "outputs": [
        {
          "output_type": "stream",
          "text": [
            "Score: -7.08005952835083 \t ['stimulation' 'treat_procedure_treat_procedure' 'stimulation'] \n",
            "Score: -7.323227405548096 \t ['immunization' 'treat_procedure_treat_procedure' 'stimulation'] \n",
            "Score: -7.327688217163086 \t ['vaccination' 'treat_procedure_treat_procedure' 'stimulation'] \n",
            "Score: -7.362116813659668 \t ['nephrectomy' 'treat_procedure_treat_procedure' 'stimulation'] \n",
            "Score: -7.397525310516357 \t ['change' 'treat_procedure_treat_procedure' 'stimulation'] \n",
            "Score: -7.404120922088623 \t ['delivery' 'treat_procedure_treat_procedure' 'stimulation'] \n",
            "Score: -7.4132890701293945 \t ['application' 'treat_procedure_treat_procedure' 'stimulation'] \n",
            "Score: -7.448145389556885 \t ['guidance' 'treat_procedure_treat_procedure' 'stimulation'] \n",
            "Score: -7.490756511688232 \t ['presence' 'treat_procedure_treat_procedure' 'stimulation'] \n",
            "Score: -7.510782718658447 \t ['reduction' 'treat_procedure_treat_procedure' 'stimulation'] \n",
            "Score: -7.5110321044921875 \t ['administration' 'treat_procedure_treat_procedure' 'stimulation'] \n",
            "Score: -7.518709182739258 \t ['isolation' 'treat_procedure_treat_procedure' 'stimulation'] \n",
            "Score: -7.5404276847839355 \t ['expression' 'treat_procedure_treat_procedure' 'stimulation'] \n",
            "Score: -7.579121112823486 \t ['aim' 'treat_procedure_treat_procedure' 'stimulation'] \n",
            "Score: -7.618124485015869 \t ['detection' 'treat_procedure_treat_procedure' 'stimulation'] \n"
          ],
          "name": "stdout"
        }
      ]
    },
    {
      "cell_type": "code",
      "metadata": {
        "colab": {
          "base_uri": "https://localhost:8080/"
        },
        "id": "egTKqGIEyuPJ",
        "outputId": "64d585c9-0221-46af-e88e-c1533362598a"
      },
      "source": [
        "triples, scores = query_topn(model, top_n=15, \n",
        "                             tail=None, \n",
        "                             relation='treat_procedure_treat_procedure', \n",
        "                             head='stimulation', \n",
        "                             ents_to_consider=None, \n",
        "                             rels_to_consider=None)\n",
        "\n",
        "for triple, score in zip(triples, scores):\n",
        "    print('Score: {} \\t {} '.format(score, triple))"
      ],
      "execution_count": null,
      "outputs": [
        {
          "output_type": "stream",
          "text": [
            "Score: -7.08005952835083 \t ['stimulation' 'treat_procedure_treat_procedure' 'stimulation'] \n",
            "Score: -7.207980155944824 \t ['stimulation' 'treat_procedure_treat_procedure' 'prevention'] \n",
            "Score: -7.294012069702148 \t ['stimulation' 'treat_procedure_treat_procedure' 'release'] \n",
            "Score: -7.403456211090088 \t ['stimulation' 'treat_procedure_treat_procedure' 'clearance'] \n",
            "Score: -7.428044319152832 \t ['stimulation' 'treat_procedure_treat_procedure' 'induction'] \n",
            "Score: -7.439124584197998 \t ['stimulation' 'treat_procedure_treat_procedure' 'intervention'] \n",
            "Score: -7.476195335388184 \t ['stimulation' 'treat_procedure_treat_procedure' 'detection'] \n",
            "Score: -7.478886604309082 \t ['stimulation' 'treat_procedure_treat_procedure' 'procedure'] \n",
            "Score: -7.48151969909668 \t ['stimulation' 'treat_procedure_treat_procedure' 'treatment'] \n",
            "Score: -7.489666938781738 \t ['stimulation' 'treat_procedure_treat_procedure' 'reduction'] \n",
            "Score: -7.5184783935546875 \t ['stimulation' 'treat_procedure_treat_procedure' 'discussion'] \n",
            "Score: -7.529501914978027 \t ['stimulation' 'treat_procedure_treat_procedure' 'therapy'] \n",
            "Score: -7.540134906768799 \t ['stimulation' 'treat_procedure_treat_procedure' 'operation'] \n",
            "Score: -7.540882587432861 \t ['stimulation' 'treat_procedure_treat_procedure' 'removal'] \n",
            "Score: -7.5462870597839355 \t ['stimulation' 'treat_procedure_treat_procedure' 'extubation'] \n"
          ],
          "name": "stdout"
        }
      ]
    },
    {
      "cell_type": "markdown",
      "metadata": {
        "id": "jEZGOV2fzlv1"
      },
      "source": [
        "###Query 8: What are treatment procedures related to genes for COVID-19?"
      ]
    },
    {
      "cell_type": "markdown",
      "metadata": {
        "id": "w2k5F62G0D7E"
      },
      "source": [
        "###Using of 'diet','isolation', 'vaccination', 'coagulation' & 'stimulation'"
      ]
    },
    {
      "cell_type": "markdown",
      "metadata": {
        "id": "agp4oybI0N4j"
      },
      "source": [
        "###using 'diet'"
      ]
    },
    {
      "cell_type": "code",
      "metadata": {
        "colab": {
          "base_uri": "https://localhost:8080/"
        },
        "id": "z1mjXbKg0PAc",
        "outputId": "6a7871ac-0c0c-4427-a5ef-08b6dc015e14"
      },
      "source": [
        "triples, scores = query_topn(model, top_n=15, \n",
        "                             head=None, \n",
        "                             relation='gene_treat_procedure', \n",
        "                             tail='diet', \n",
        "                             ents_to_consider=None, \n",
        "                             rels_to_consider=None)\n",
        "\n",
        "for triple, score in zip(triples, scores):\n",
        "    print('Score: {} \\t {} '.format(score, triple))"
      ],
      "execution_count": null,
      "outputs": [
        {
          "output_type": "stream",
          "text": [
            "Score: -7.814241886138916 \t ['nucleic acid' 'gene_treat_procedure' 'diet'] \n",
            "Score: -7.823107719421387 \t ['step' 'gene_treat_procedure' 'diet'] \n",
            "Score: -7.9059624671936035 \t ['antibody' 'gene_treat_procedure' 'diet'] \n",
            "Score: -7.921473503112793 \t ['protein' 'gene_treat_procedure' 'diet'] \n",
            "Score: -7.92204475402832 \t ['mabs' 'gene_treat_procedure' 'diet'] \n",
            "Score: -7.942603588104248 \t ['viral antigen' 'gene_treat_procedure' 'diet'] \n",
            "Score: -7.98054838180542 \t ['mab' 'gene_treat_procedure' 'diet'] \n",
            "Score: -7.992313861846924 \t ['antigen' 'gene_treat_procedure' 'diet'] \n",
            "Score: -8.008453369140625 \t ['igg antibody' 'gene_treat_procedure' 'diet'] \n",
            "Score: -8.059837341308594 \t ['il' 'gene_treat_procedure' 'diet'] \n",
            "Score: -8.062214851379395 \t ['plasma' 'gene_treat_procedure' 'diet'] \n",
            "Score: -8.067042350769043 \t ['ifn' 'gene_treat_procedure' 'diet'] \n",
            "Score: -8.091503143310547 \t ['band' 'gene_treat_procedure' 'diet'] \n",
            "Score: -8.11323070526123 \t ['ifns' 'gene_treat_procedure' 'diet'] \n",
            "Score: -8.113581657409668 \t ['gene' 'gene_treat_procedure' 'diet'] \n"
          ],
          "name": "stdout"
        }
      ]
    },
    {
      "cell_type": "code",
      "metadata": {
        "colab": {
          "base_uri": "https://localhost:8080/"
        },
        "id": "kfhJ3oTj0FS9",
        "outputId": "1d14425f-07a7-43cf-a9d3-f0c2540c25a3"
      },
      "source": [
        "triples, scores = query_topn(model, top_n=15, \n",
        "                             tail=None, \n",
        "                             relation='treat_procedure_gene', \n",
        "                             head='diet', \n",
        "                             ents_to_consider=None, \n",
        "                             rels_to_consider=None)\n",
        "\n",
        "for triple, score in zip(triples, scores):\n",
        "    print('Score: {} \\t {} '.format(score, triple))"
      ],
      "execution_count": null,
      "outputs": [
        {
          "output_type": "stream",
          "text": [
            "Score: -7.076888084411621 \t ['diet' 'treat_procedure_gene' 'step'] \n",
            "Score: -7.148949146270752 \t ['diet' 'treat_procedure_gene' 'serum'] \n",
            "Score: -7.191285133361816 \t ['diet' 'treat_procedure_gene' 'antigen'] \n",
            "Score: -7.259720802307129 \t ['diet' 'treat_procedure_gene' 'impact'] \n",
            "Score: -7.274569511413574 \t ['diet' 'treat_procedure_gene' 'antibody'] \n",
            "Score: -7.310152530670166 \t ['diet' 'treat_procedure_gene' 'ifn'] \n",
            "Score: -7.3261871337890625 \t ['diet' 'treat_procedure_gene' 'plasma'] \n",
            "Score: -7.332142353057861 \t ['diet' 'treat_procedure_gene' 'best'] \n",
            "Score: -7.346474647521973 \t ['diet' 'treat_procedure_gene' 'csf'] \n",
            "Score: -7.352807998657227 \t ['diet' 'treat_procedure_gene' 'protein'] \n",
            "Score: -7.408010959625244 \t ['diet' 'treat_procedure_gene' 'end'] \n",
            "Score: -7.418285369873047 \t ['diet' 'treat_procedure_gene' 'set'] \n",
            "Score: -7.43527889251709 \t ['diet' 'treat_procedure_gene' 'gene'] \n",
            "Score: -7.4656805992126465 \t ['diet' 'treat_procedure_gene' 'igg'] \n",
            "Score: -7.481998443603516 \t ['diet' 'treat_procedure_gene' 'host'] \n"
          ],
          "name": "stdout"
        }
      ]
    },
    {
      "cell_type": "markdown",
      "metadata": {
        "id": "2FtSvYJZi6Y5"
      },
      "source": [
        "###using 'isolation'"
      ]
    },
    {
      "cell_type": "code",
      "metadata": {
        "id": "3He5LKdQygkx",
        "colab": {
          "base_uri": "https://localhost:8080/"
        },
        "outputId": "ebda2675-ac61-4969-99de-a3939ce53f8a"
      },
      "source": [
        "triples, scores = query_topn(model, top_n=15, \n",
        "                             head=None, \n",
        "                             relation='gene_treat_procedure', \n",
        "                             tail='isolation', \n",
        "                             ents_to_consider=None, \n",
        "                             rels_to_consider=None)\n",
        "\n",
        "for triple, score in zip(triples, scores):\n",
        "    print('Score: {} \\t {} '.format(score, triple))"
      ],
      "execution_count": null,
      "outputs": [
        {
          "output_type": "stream",
          "text": [
            "Score: -7.271273612976074 \t ['antibody' 'gene_treat_procedure' 'isolation'] \n",
            "Score: -7.279046058654785 \t ['step' 'gene_treat_procedure' 'isolation'] \n",
            "Score: -7.342713356018066 \t ['protein' 'gene_treat_procedure' 'isolation'] \n",
            "Score: -7.343426704406738 \t ['nucleic acid' 'gene_treat_procedure' 'isolation'] \n",
            "Score: -7.351099014282227 \t ['mabs' 'gene_treat_procedure' 'isolation'] \n",
            "Score: -7.385714530944824 \t ['viral antigen' 'gene_treat_procedure' 'isolation'] \n",
            "Score: -7.397027969360352 \t ['il' 'gene_treat_procedure' 'isolation'] \n",
            "Score: -7.3991193771362305 \t ['antigen' 'gene_treat_procedure' 'isolation'] \n",
            "Score: -7.428561210632324 \t ['igg antibody' 'gene_treat_procedure' 'isolation'] \n",
            "Score: -7.4393463134765625 \t ['mab' 'gene_treat_procedure' 'isolation'] \n",
            "Score: -7.449716567993164 \t ['plasma' 'gene_treat_procedure' 'isolation'] \n",
            "Score: -7.475085258483887 \t ['ifn' 'gene_treat_procedure' 'isolation'] \n",
            "Score: -7.5058488845825195 \t ['gene' 'gene_treat_procedure' 'isolation'] \n",
            "Score: -7.528868198394775 \t ['band' 'gene_treat_procedure' 'isolation'] \n",
            "Score: -7.530467510223389 \t ['igm' 'gene_treat_procedure' 'isolation'] \n"
          ],
          "name": "stdout"
        }
      ]
    },
    {
      "cell_type": "code",
      "metadata": {
        "colab": {
          "base_uri": "https://localhost:8080/"
        },
        "id": "C-W1DVE-hp3D",
        "outputId": "5ba45aee-9b8c-4ca8-97c0-989c07dcddfd"
      },
      "source": [
        "triples, scores = query_topn(model, top_n=15, \n",
        "                             tail=None, \n",
        "                             relation='treat_procedure_gene', \n",
        "                             head='isolation', \n",
        "                             ents_to_consider=None, \n",
        "                             rels_to_consider=None)\n",
        "\n",
        "for triple, score in zip(triples, scores):\n",
        "    print('Score: {} \\t {} '.format(score, triple))"
      ],
      "execution_count": null,
      "outputs": [
        {
          "output_type": "stream",
          "text": [
            "Score: -6.358750343322754 \t ['isolation' 'treat_procedure_gene' 'serum'] \n",
            "Score: -6.413634777069092 \t ['isolation' 'treat_procedure_gene' 'step'] \n",
            "Score: -6.444091796875 \t ['isolation' 'treat_procedure_gene' 'antigen'] \n",
            "Score: -6.5059428215026855 \t ['isolation' 'treat_procedure_gene' 'plasma'] \n",
            "Score: -6.533306121826172 \t ['isolation' 'treat_procedure_gene' 'impact'] \n",
            "Score: -6.540275573730469 \t ['isolation' 'treat_procedure_gene' 'antibody'] \n",
            "Score: -6.553938865661621 \t ['isolation' 'treat_procedure_gene' 'csf'] \n",
            "Score: -6.565293312072754 \t ['isolation' 'treat_procedure_gene' 'ifn'] \n",
            "Score: -6.60703182220459 \t ['isolation' 'treat_procedure_gene' 'end'] \n",
            "Score: -6.61910343170166 \t ['isolation' 'treat_procedure_gene' 'set'] \n",
            "Score: -6.665585994720459 \t ['isolation' 'treat_procedure_gene' 'best'] \n",
            "Score: -6.677117824554443 \t ['isolation' 'treat_procedure_gene' 'protein'] \n",
            "Score: -6.727340221405029 \t ['isolation' 'treat_procedure_gene' 'interferon'] \n",
            "Score: -6.730746746063232 \t ['isolation' 'treat_procedure_gene' 'gene'] \n",
            "Score: -6.74515438079834 \t ['isolation' 'treat_procedure_gene' 'body'] \n"
          ],
          "name": "stdout"
        }
      ]
    },
    {
      "cell_type": "markdown",
      "metadata": {
        "id": "NwnyblqYiWOS"
      },
      "source": [
        "###using 'vaccination'"
      ]
    },
    {
      "cell_type": "code",
      "metadata": {
        "colab": {
          "base_uri": "https://localhost:8080/"
        },
        "id": "5F_JTzNNieLK",
        "outputId": "bec22e68-e583-4d8c-c55c-d1de47564e3d"
      },
      "source": [
        "triples, scores = query_topn(model, top_n=15, \n",
        "                             head=None, \n",
        "                             relation='gene_treat_procedure', \n",
        "                             tail='vaccination', \n",
        "                             ents_to_consider=None, \n",
        "                             rels_to_consider=None)\n",
        "\n",
        "for triple, score in zip(triples, scores):\n",
        "    print('Score: {} \\t {} '.format(score, triple))"
      ],
      "execution_count": null,
      "outputs": [
        {
          "output_type": "stream",
          "text": [
            "Score: -7.290629863739014 \t ['step' 'gene_treat_procedure' 'vaccination'] \n",
            "Score: -7.329212665557861 \t ['antibody' 'gene_treat_procedure' 'vaccination'] \n",
            "Score: -7.373039245605469 \t ['mabs' 'gene_treat_procedure' 'vaccination'] \n",
            "Score: -7.380733489990234 \t ['nucleic acid' 'gene_treat_procedure' 'vaccination'] \n",
            "Score: -7.393228530883789 \t ['protein' 'gene_treat_procedure' 'vaccination'] \n",
            "Score: -7.427067279815674 \t ['viral antigen' 'gene_treat_procedure' 'vaccination'] \n",
            "Score: -7.450476169586182 \t ['antigen' 'gene_treat_procedure' 'vaccination'] \n",
            "Score: -7.458548545837402 \t ['il' 'gene_treat_procedure' 'vaccination'] \n",
            "Score: -7.463231086730957 \t ['igg antibody' 'gene_treat_procedure' 'vaccination'] \n",
            "Score: -7.465262413024902 \t ['mab' 'gene_treat_procedure' 'vaccination'] \n",
            "Score: -7.499251365661621 \t ['ifn' 'gene_treat_procedure' 'vaccination'] \n",
            "Score: -7.537175178527832 \t ['plasma' 'gene_treat_procedure' 'vaccination'] \n",
            "Score: -7.551883220672607 \t ['gene' 'gene_treat_procedure' 'vaccination'] \n",
            "Score: -7.556584358215332 \t ['band' 'gene_treat_procedure' 'vaccination'] \n",
            "Score: -7.5693359375 \t ['vlps' 'gene_treat_procedure' 'vaccination'] \n"
          ],
          "name": "stdout"
        }
      ]
    },
    {
      "cell_type": "code",
      "metadata": {
        "colab": {
          "base_uri": "https://localhost:8080/"
        },
        "id": "0uHlSWN7ieoo",
        "outputId": "c412cdcf-33aa-43e7-f9a1-3613c008a92a"
      },
      "source": [
        "triples, scores = query_topn(model, top_n=15, \n",
        "                             tail=None, \n",
        "                             relation='treat_procedure_gene', \n",
        "                             head='vaccination', \n",
        "                             ents_to_consider=None, \n",
        "                             rels_to_consider=None)\n",
        "\n",
        "for triple, score in zip(triples, scores):\n",
        "    print('Score: {} \\t {} '.format(score, triple))"
      ],
      "execution_count": null,
      "outputs": [
        {
          "output_type": "stream",
          "text": [
            "Score: -6.197863578796387 \t ['vaccination' 'treat_procedure_gene' 'serum'] \n",
            "Score: -6.205445289611816 \t ['vaccination' 'treat_procedure_gene' 'step'] \n",
            "Score: -6.275914192199707 \t ['vaccination' 'treat_procedure_gene' 'antigen'] \n",
            "Score: -6.345757961273193 \t ['vaccination' 'treat_procedure_gene' 'antibody'] \n",
            "Score: -6.375162124633789 \t ['vaccination' 'treat_procedure_gene' 'plasma'] \n",
            "Score: -6.3784565925598145 \t ['vaccination' 'treat_procedure_gene' 'csf'] \n",
            "Score: -6.3867878913879395 \t ['vaccination' 'treat_procedure_gene' 'impact'] \n",
            "Score: -6.415197849273682 \t ['vaccination' 'treat_procedure_gene' 'ifn'] \n",
            "Score: -6.482891082763672 \t ['vaccination' 'treat_procedure_gene' 'end'] \n",
            "Score: -6.516984462738037 \t ['vaccination' 'treat_procedure_gene' 'best'] \n",
            "Score: -6.522115707397461 \t ['vaccination' 'treat_procedure_gene' 'protein'] \n",
            "Score: -6.531242370605469 \t ['vaccination' 'treat_procedure_gene' 'set'] \n",
            "Score: -6.546443939208984 \t ['vaccination' 'treat_procedure_gene' 'igg'] \n",
            "Score: -6.569543838500977 \t ['vaccination' 'treat_procedure_gene' 'gene'] \n",
            "Score: -6.585679054260254 \t ['vaccination' 'treat_procedure_gene' 'interferon'] \n"
          ],
          "name": "stdout"
        }
      ]
    },
    {
      "cell_type": "markdown",
      "metadata": {
        "id": "suWhGI-XifaZ"
      },
      "source": [
        "###using 'coagulation'"
      ]
    },
    {
      "cell_type": "code",
      "metadata": {
        "colab": {
          "base_uri": "https://localhost:8080/"
        },
        "id": "TOLqIVm_inpx",
        "outputId": "1441d501-b17f-4c49-c8f0-da785a30953a"
      },
      "source": [
        "triples, scores = query_topn(model, top_n=15, \n",
        "                             head=None, \n",
        "                             relation='gene_treat_procedure', \n",
        "                             tail='coagulation', \n",
        "                             ents_to_consider=None, \n",
        "                             rels_to_consider=None)\n",
        "\n",
        "for triple, score in zip(triples, scores):\n",
        "    print('Score: {} \\t {} '.format(score, triple))"
      ],
      "execution_count": null,
      "outputs": [
        {
          "output_type": "stream",
          "text": [
            "Score: -7.952884674072266 \t ['nucleic acid' 'gene_treat_procedure' 'coagulation'] \n",
            "Score: -7.970551490783691 \t ['step' 'gene_treat_procedure' 'coagulation'] \n",
            "Score: -8.024620056152344 \t ['mabs' 'gene_treat_procedure' 'coagulation'] \n",
            "Score: -8.031702995300293 \t ['antibody' 'gene_treat_procedure' 'coagulation'] \n",
            "Score: -8.033041000366211 \t ['protein' 'gene_treat_procedure' 'coagulation'] \n",
            "Score: -8.060356140136719 \t ['il' 'gene_treat_procedure' 'coagulation'] \n",
            "Score: -8.073432922363281 \t ['viral antigen' 'gene_treat_procedure' 'coagulation'] \n",
            "Score: -8.121862411499023 \t ['antigen' 'gene_treat_procedure' 'coagulation'] \n",
            "Score: -8.12790584564209 \t ['mab' 'gene_treat_procedure' 'coagulation'] \n",
            "Score: -8.136943817138672 \t ['igg antibody' 'gene_treat_procedure' 'coagulation'] \n",
            "Score: -8.164202690124512 \t ['plasma' 'gene_treat_procedure' 'coagulation'] \n",
            "Score: -8.177301406860352 \t ['she' 'gene_treat_procedure' 'coagulation'] \n",
            "Score: -8.184896469116211 \t ['gene' 'gene_treat_procedure' 'coagulation'] \n",
            "Score: -8.192598342895508 \t ['ifn' 'gene_treat_procedure' 'coagulation'] \n",
            "Score: -8.202123641967773 \t ['damage' 'gene_treat_procedure' 'coagulation'] \n"
          ],
          "name": "stdout"
        }
      ]
    },
    {
      "cell_type": "code",
      "metadata": {
        "colab": {
          "base_uri": "https://localhost:8080/"
        },
        "id": "H_D2cFFOioCt",
        "outputId": "bd79b134-b48d-49a3-afb7-5f49174bd36b"
      },
      "source": [
        "triples, scores = query_topn(model, top_n=15, \n",
        "                             tail=None, \n",
        "                             relation='treat_procedure_gene', \n",
        "                             head='coagulation', \n",
        "                             ents_to_consider=None, \n",
        "                             rels_to_consider=None)\n",
        "\n",
        "for triple, score in zip(triples, scores):\n",
        "    print('Score: {} \\t {} '.format(score, triple))"
      ],
      "execution_count": null,
      "outputs": [
        {
          "output_type": "stream",
          "text": [
            "Score: -6.948832988739014 \t ['coagulation' 'treat_procedure_gene' 'step'] \n",
            "Score: -7.003355026245117 \t ['coagulation' 'treat_procedure_gene' 'serum'] \n",
            "Score: -7.023144721984863 \t ['coagulation' 'treat_procedure_gene' 'antigen'] \n",
            "Score: -7.072268486022949 \t ['coagulation' 'treat_procedure_gene' 'plasma'] \n",
            "Score: -7.128332138061523 \t ['coagulation' 'treat_procedure_gene' 'ifn'] \n",
            "Score: -7.136817932128906 \t ['coagulation' 'treat_procedure_gene' 'impact'] \n",
            "Score: -7.14448356628418 \t ['coagulation' 'treat_procedure_gene' 'antibody'] \n",
            "Score: -7.150030136108398 \t ['coagulation' 'treat_procedure_gene' 'csf'] \n",
            "Score: -7.216067314147949 \t ['coagulation' 'treat_procedure_gene' 'end'] \n",
            "Score: -7.22769021987915 \t ['coagulation' 'treat_procedure_gene' 'set'] \n",
            "Score: -7.231782913208008 \t ['coagulation' 'treat_procedure_gene' 'protein'] \n",
            "Score: -7.23671817779541 \t ['coagulation' 'treat_procedure_gene' '12'] \n",
            "Score: -7.24821662902832 \t ['coagulation' 'treat_procedure_gene' 'interferon'] \n",
            "Score: -7.250544548034668 \t ['coagulation' 'treat_procedure_gene' 'gene'] \n",
            "Score: -7.268233299255371 \t ['coagulation' 'treat_procedure_gene' 'best'] \n"
          ],
          "name": "stdout"
        }
      ]
    },
    {
      "cell_type": "markdown",
      "metadata": {
        "id": "cqVGiztzioiN"
      },
      "source": [
        "###using 'stimulation'"
      ]
    },
    {
      "cell_type": "code",
      "metadata": {
        "colab": {
          "base_uri": "https://localhost:8080/"
        },
        "id": "Mg9jkcr8jFG5",
        "outputId": "b6d5dd53-4ff7-47c7-ff3f-172a72dfd0c6"
      },
      "source": [
        "triples, scores = query_topn(model, top_n=15, \n",
        "                             head=None, \n",
        "                             relation='gene_treat_procedure', \n",
        "                             tail='stimulation', \n",
        "                             ents_to_consider=None, \n",
        "                             rels_to_consider=None)\n",
        "\n",
        "for triple, score in zip(triples, scores):\n",
        "    print('Score: {} \\t {} '.format(score, triple))"
      ],
      "execution_count": null,
      "outputs": [
        {
          "output_type": "stream",
          "text": [
            "Score: -6.945173263549805 \t ['step' 'gene_treat_procedure' 'stimulation'] \n",
            "Score: -7.009547233581543 \t ['antibody' 'gene_treat_procedure' 'stimulation'] \n",
            "Score: -7.011922836303711 \t ['nucleic acid' 'gene_treat_procedure' 'stimulation'] \n",
            "Score: -7.042825698852539 \t ['protein' 'gene_treat_procedure' 'stimulation'] \n",
            "Score: -7.044106483459473 \t ['viral antigen' 'gene_treat_procedure' 'stimulation'] \n",
            "Score: -7.054532051086426 \t ['mabs' 'gene_treat_procedure' 'stimulation'] \n",
            "Score: -7.064726829528809 \t ['il' 'gene_treat_procedure' 'stimulation'] \n",
            "Score: -7.083166122436523 \t ['igg antibody' 'gene_treat_procedure' 'stimulation'] \n",
            "Score: -7.095091819763184 \t ['antigen' 'gene_treat_procedure' 'stimulation'] \n",
            "Score: -7.116360664367676 \t ['ifn' 'gene_treat_procedure' 'stimulation'] \n",
            "Score: -7.155575275421143 \t ['band' 'gene_treat_procedure' 'stimulation'] \n",
            "Score: -7.163001537322998 \t ['mab' 'gene_treat_procedure' 'stimulation'] \n",
            "Score: -7.178347110748291 \t ['ifns' 'gene_treat_procedure' 'stimulation'] \n",
            "Score: -7.186244010925293 \t ['plasma' 'gene_treat_procedure' 'stimulation'] \n",
            "Score: -7.188121795654297 \t ['vlps' 'gene_treat_procedure' 'stimulation'] \n"
          ],
          "name": "stdout"
        }
      ]
    },
    {
      "cell_type": "code",
      "metadata": {
        "colab": {
          "base_uri": "https://localhost:8080/"
        },
        "id": "ntKhBuPNjE6h",
        "outputId": "d0914890-39b0-4587-8f6e-2e734319805b"
      },
      "source": [
        "triples, scores = query_topn(model, top_n=15, \n",
        "                             tail=None, \n",
        "                             relation='treat_procedure_gene', \n",
        "                             head='stimulation', \n",
        "                             ents_to_consider=None, \n",
        "                             rels_to_consider=None)\n",
        "\n",
        "for triple, score in zip(triples, scores):\n",
        "    print('Score: {} \\t {} '.format(score, triple))"
      ],
      "execution_count": null,
      "outputs": [
        {
          "output_type": "stream",
          "text": [
            "Score: -5.959142684936523 \t ['stimulation' 'treat_procedure_gene' 'serum'] \n",
            "Score: -5.986208915710449 \t ['stimulation' 'treat_procedure_gene' 'step'] \n",
            "Score: -6.067951202392578 \t ['stimulation' 'treat_procedure_gene' 'antigen'] \n",
            "Score: -6.1158447265625 \t ['stimulation' 'treat_procedure_gene' 'plasma'] \n",
            "Score: -6.124014377593994 \t ['stimulation' 'treat_procedure_gene' 'csf'] \n",
            "Score: -6.164010047912598 \t ['stimulation' 'treat_procedure_gene' 'ifn'] \n",
            "Score: -6.176165580749512 \t ['stimulation' 'treat_procedure_gene' 'impact'] \n",
            "Score: -6.1956987380981445 \t ['stimulation' 'treat_procedure_gene' 'antibody'] \n",
            "Score: -6.249466896057129 \t ['stimulation' 'treat_procedure_gene' 'best'] \n",
            "Score: -6.2654194831848145 \t ['stimulation' 'treat_procedure_gene' 'lp'] \n",
            "Score: -6.28163480758667 \t ['stimulation' 'treat_procedure_gene' 'end'] \n",
            "Score: -6.28341007232666 \t ['stimulation' 'treat_procedure_gene' 'set'] \n",
            "Score: -6.290707588195801 \t ['stimulation' 'treat_procedure_gene' 'interferon'] \n",
            "Score: -6.320339202880859 \t ['stimulation' 'treat_procedure_gene' 'protein'] \n",
            "Score: -6.335423469543457 \t ['stimulation' 'treat_procedure_gene' 'igg'] \n"
          ],
          "name": "stdout"
        }
      ]
    }
  ]
}